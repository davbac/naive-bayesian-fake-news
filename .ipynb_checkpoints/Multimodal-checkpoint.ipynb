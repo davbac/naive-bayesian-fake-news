{
 "cells": [
  {
   "cell_type": "code",
   "execution_count": 1,
   "id": "8d85215e",
   "metadata": {},
   "outputs": [],
   "source": [
    "data <- read.csv(\"train.csv\")"
   ]
  },
  {
   "cell_type": "code",
   "execution_count": 2,
   "id": "780d8424",
   "metadata": {},
   "outputs": [],
   "source": [
    "pc <- c(0,0,0,0,0,0)\n",
    "for(i in 0:5) {\n",
    "    pc[i+1] <- length(data[data[, \"Labels\"]==i, \"Labels\"])\n",
    "}"
   ]
  },
  {
   "cell_type": "code",
   "execution_count": 3,
   "id": "36f4c2f2",
   "metadata": {},
   "outputs": [],
   "source": [
    "full_text <- paste(data$Text, sep=\" \", collapse=\" \")\n",
    "#tokens <- c()\n",
    "#for(t in data$Text) {\n",
    "#    tokens <- c(tokens, strsplit(t, \" \")[[1]])\n",
    "#}\n",
    "#tokens <- unique(tokens)\n",
    "tokens <- unique(strsplit(full_text, \" \")[[1]])"
   ]
  },
  {
   "cell_type": "code",
   "execution_count": 4,
   "id": "6013fe9a",
   "metadata": {},
   "outputs": [],
   "source": [
    "ptc <- data.frame(\n",
    "    token = tokens, \n",
    "    ct0 = 0,\n",
    "    ct1 = 0,\n",
    "    ct2 = 0,\n",
    "    ct3 = 0,\n",
    "    ct4 = 0,\n",
    "    ct5 = 0,\n",
    "    ctp0 = 0, \n",
    "    ctp1 = 0, \n",
    "    ctp2 = 0, \n",
    "    ctp3 = 0, \n",
    "    ctp4 = 0, \n",
    "    ctp5 = 0, \n",
    "    pt0 = 0,\n",
    "    pt1 = 0,\n",
    "    pt2 = 0,\n",
    "    pt3 = 0,\n",
    "    pt4 = 0,\n",
    "    pt5 = 0\n",
    ")\n",
    "\n"
   ]
  },
  {
   "cell_type": "code",
   "execution_count": null,
   "id": "09532e09",
   "metadata": {},
   "outputs": [],
   "source": [
    "for(i in 0:5) {\n",
    "    class_text <- strsplit(paste(data[data[, \"Labels\"]==i, \"Text\"], sep=\" \", collapse=\" \"), \" \")[[1]]\n",
    "    \n",
    "    for(j in 1:length(tokens)) {\n",
    "        ptc[j,paste(\"ct\",i, sep=\"\")] <- sum(class_text==ptc[j, \"token\"]) + 1\n",
    "        ptc[j,paste(\"ctp\",i, sep=\"\")] <- length(tokens) + length(class_text) - ptc[j,paste(\"ct\",i, sep=\"\")]\n",
    "        ptc[j,paste(\"pt\",i, sep=\"\")] <- ptc[j,paste(\"ct\",i, sep=\"\")] / ptc[j,paste(\"ctp\",i, sep=\"\")]\n",
    "    }\n",
    "}"
   ]
  },
  {
   "cell_type": "code",
   "execution_count": null,
   "id": "36c7d1e1",
   "metadata": {},
   "outputs": [],
   "source": [
    "ptc"
   ]
  }
 ],
 "metadata": {
  "kernelspec": {
   "display_name": "R",
   "language": "R",
   "name": "ir"
  },
  "language_info": {
   "codemirror_mode": "r",
   "file_extension": ".r",
   "mimetype": "text/x-r-source",
   "name": "R",
   "pygments_lexer": "r",
   "version": "4.1.2"
  }
 },
 "nbformat": 4,
 "nbformat_minor": 5
}
