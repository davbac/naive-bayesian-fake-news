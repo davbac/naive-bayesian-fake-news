{
 "cells": [
  {
   "cell_type": "code",
   "execution_count": 1,
   "id": "4870e44a",
   "metadata": {},
   "outputs": [
    {
     "name": "stderr",
     "output_type": "stream",
     "text": [
      "── \u001b[1mAttaching core tidyverse packages\u001b[22m ──────────────────────────────────────────────────────────── tidyverse 2.0.0 ──\n",
      "\u001b[32m✔\u001b[39m \u001b[34mdplyr    \u001b[39m 1.1.0     \u001b[32m✔\u001b[39m \u001b[34mreadr    \u001b[39m 2.1.4\n",
      "\u001b[32m✔\u001b[39m \u001b[34mforcats  \u001b[39m 1.0.0     \u001b[32m✔\u001b[39m \u001b[34mstringr  \u001b[39m 1.5.0\n",
      "\u001b[32m✔\u001b[39m \u001b[34mggplot2  \u001b[39m 3.4.1     \u001b[32m✔\u001b[39m \u001b[34mtibble   \u001b[39m 3.1.8\n",
      "\u001b[32m✔\u001b[39m \u001b[34mlubridate\u001b[39m 1.9.2     \u001b[32m✔\u001b[39m \u001b[34mtidyr    \u001b[39m 1.3.0\n",
      "\u001b[32m✔\u001b[39m \u001b[34mpurrr    \u001b[39m 1.0.1     \n",
      "── \u001b[1mConflicts\u001b[22m ────────────────────────────────────────────────────────────────────────────── tidyverse_conflicts() ──\n",
      "\u001b[31m✖\u001b[39m \u001b[34mdplyr\u001b[39m::\u001b[32mfilter()\u001b[39m masks \u001b[34mstats\u001b[39m::filter()\n",
      "\u001b[31m✖\u001b[39m \u001b[34mdplyr\u001b[39m::\u001b[32mlag()\u001b[39m    masks \u001b[34mstats\u001b[39m::lag()\n",
      "\u001b[36mℹ\u001b[39m Use the conflicted package (\u001b[3m\u001b[34m<http://conflicted.r-lib.org/>\u001b[39m\u001b[23m) to force all conflicts to become errors\n"
     ]
    }
   ],
   "source": [
    "library(tidyverse)"
   ]
  },
  {
   "cell_type": "code",
   "execution_count": 2,
   "id": "8d85215e",
   "metadata": {},
   "outputs": [
    {
     "data": {
      "text/html": [
       "10240"
      ],
      "text/latex": [
       "10240"
      ],
      "text/markdown": [
       "10240"
      ],
      "text/plain": [
       "[1] 10240"
      ]
     },
     "metadata": {},
     "output_type": "display_data"
    },
    {
     "data": {
      "text/html": [
       "10240"
      ],
      "text/latex": [
       "10240"
      ],
      "text/markdown": [
       "10240"
      ],
      "text/plain": [
       "[1] 10240"
      ]
     },
     "metadata": {},
     "output_type": "display_data"
    },
    {
     "data": {
      "text/html": [
       "9216"
      ],
      "text/latex": [
       "9216"
      ],
      "text/markdown": [
       "9216"
      ],
      "text/plain": [
       "[1] 9216"
      ]
     },
     "metadata": {},
     "output_type": "display_data"
    },
    {
     "data": {
      "text/html": [
       "1025"
      ],
      "text/latex": [
       "1025"
      ],
      "text/markdown": [
       "1025"
      ],
      "text/plain": [
       "[1] 1025"
      ]
     },
     "metadata": {},
     "output_type": "display_data"
    }
   ],
   "source": [
    "data <- read.csv(\"selected.csv\")\n",
    "length(data[,\"Labels\"])\n",
    "data <- data[sample(1:length(data$Labels)), ] #random shuffle\n",
    "length(data[,\"Labels\"])\n",
    "val_data <- data[as.integer(0.9 * length(data$Labels)):length(data$Labels),]\n",
    "data <- data[1:as.integer(0.9 * length(data$Labels)),]\n",
    "length(data[,\"Labels\"])\n",
    "length(val_data[,\"Labels\"])"
   ]
  },
  {
   "cell_type": "code",
   "execution_count": 3,
   "id": "780d8424",
   "metadata": {},
   "outputs": [],
   "source": [
    "pc <- c(0,0,0,0,0,0)\n",
    "for(i in 0:5) {\n",
    "    pc[i+1] <- length(data[data[, \"Labels\"]==i, \"Labels\"])\n",
    "}"
   ]
  },
  {
   "cell_type": "code",
   "execution_count": 4,
   "id": "36f4c2f2",
   "metadata": {},
   "outputs": [],
   "source": [
    "full_text <- paste(data$Text, sep=\" \", collapse=\" \")\n",
    "#tokens <- c()\n",
    "#for(t in data$Text) {\n",
    "#    tokens <- c(tokens, strsplit(t, \" \")[[1]])\n",
    "#}\n",
    "#tokens <- unique(tokens)\n",
    "tokens <- unique(strsplit(full_text, \" \")[[1]])\n",
    "tokens <- tokens[- (tokens==\"\")]"
   ]
  },
  {
   "cell_type": "code",
   "execution_count": 5,
   "id": "6013fe9a",
   "metadata": {},
   "outputs": [],
   "source": [
    "## multinomial model\n",
    "ptc <- data.frame(\n",
    "    token = tokens, \n",
    "    ct0 = 0,\n",
    "    ct1 = 0,\n",
    "    ct2 = 0,\n",
    "    ct3 = 0,\n",
    "    ct4 = 0,\n",
    "    ct5 = 0,\n",
    "    #ctp0 = 0, \n",
    "    #ctp1 = 0, \n",
    "    #ctp2 = 0, \n",
    "    #ctp3 = 0, \n",
    "    #ctp4 = 0, \n",
    "    #ctp5 = 0, \n",
    "    pt0 = 0,\n",
    "    pt1 = 0,\n",
    "    pt2 = 0,\n",
    "    pt3 = 0,\n",
    "    pt4 = 0,\n",
    "    pt5 = 0\n",
    ")\n",
    "\n",
    "\n",
    "\n",
    "for(i in 0:5) {\n",
    "    class_text <- strsplit(paste(data[data[, \"Labels\"]==i, \"Text\"], sep=\" \", collapse=\" \"), \" \")[[1]]\n",
    "    \n",
    "    for(j in 1:length(tokens)) {\n",
    "        ptc[j,paste(\"ct\",i, sep=\"\")] <- sum(class_text==ptc[j, \"token\"]) + 1\n",
    "        #ptc[j,paste(\"ctp\",i, sep=\"\")] <- length(tokens) + length(class_text) - ptc[j,paste(\"ct\",i, sep=\"\")]\n",
    "    }\n",
    "    #ptc[,paste(\"pt\",i, sep=\"\")] <- ptc[,paste(\"ct\",i, sep=\"\")] / ptc[,paste(\"ctp\",i, sep=\"\")]\n",
    "    ptc[,paste(\"pt\",i, sep=\"\")] <- ptc[,paste(\"ct\",i, sep=\"\")] / (length(class_text) + length(tokens))\n",
    "}\n",
    "ptc <- ptc[,c(\"token\",\"pt0\", \"pt1\", \"pt2\", \"pt3\", \"pt4\", \"pt5\")]"
   ]
  },
  {
   "cell_type": "code",
   "execution_count": 6,
   "id": "342e3e6f",
   "metadata": {},
   "outputs": [],
   "source": [
    "## bernoulli model\n",
    "ptc_b <- data.frame(\n",
    "    token = tokens, \n",
    "    ct0 = 0,\n",
    "    ct1 = 0,\n",
    "    ct2 = 0,\n",
    "    ct3 = 0,\n",
    "    ct4 = 0,\n",
    "    ct5 = 0,\n",
    "    #ctp0 = 0, \n",
    "    #ctp1 = 0, \n",
    "    #ctp2 = 0, \n",
    "    #ctp3 = 0, \n",
    "    #ctp4 = 0, \n",
    "    #ctp5 = 0, \n",
    "    pt0 = 0,\n",
    "    pt1 = 0,\n",
    "    pt2 = 0,\n",
    "    pt3 = 0,\n",
    "    pt4 = 0,\n",
    "    pt5 = 0\n",
    ")\n",
    "\n",
    "\n",
    "#print(c(paste(\" \", ptc_b$token, \" \", sep=\"\")))\n",
    "\n",
    "for(i in 0:5) {\n",
    "    count <- 0\n",
    "    l <- length(data[data[, \"Labels\"]==i, \"Text\"])\n",
    "    sels <- c()\n",
    "    for(t in data[data[, \"Labels\"]==i, \"Text\"]) {\n",
    "        #print(str_extract(t, paste(\" \", ptc_b$token, \" \", sep=\"\")))\n",
    "        #print(t)\n",
    "        #print(sels)\n",
    "        sels <- c(sels, str_extract(t, paste(\" \", ptc_b$token, \" \", sep=\"\")))\n",
    "    }   \n",
    "    sels <- sels[!is.na(sels)]\n",
    "    sels <- gsub(\" \", \"\", sels, fixed=T)\n",
    "    #print(sels[1:100])\n",
    "    #print(ptc_b[1:100,]$token)\n",
    "    for(j in 1:length(ptc_b$token)) {\n",
    "        ptc_b[j,paste(\"ct\",i, sep=\"\")] <- sum(sels==ptc_b[j, \"token\"])+1\n",
    "    }\n",
    "    ptc_b[,paste(\"pt\",i, sep=\"\")] <- ptc_b[,paste(\"ct\",i, sep=\"\")] / (length(tokens) + l)\n",
    "}\n",
    "ptc_b <- ptc_b[,c(\"token\",\"pt0\", \"pt1\", \"pt2\", \"pt3\", \"pt4\", \"pt5\")]"
   ]
  },
  {
   "cell_type": "code",
   "execution_count": 7,
   "id": "36c7d1e1",
   "metadata": {},
   "outputs": [],
   "source": [
    "#write.csv(ptc, \"prob_token_by_class.csv\")\n",
    "#write.csv(ptc_b, \"prob_token_by_class_b.csv\")\n",
    "# save for later"
   ]
  },
  {
   "cell_type": "code",
   "execution_count": 8,
   "id": "baff3118",
   "metadata": {},
   "outputs": [
    {
     "name": "stdout",
     "output_type": "stream",
     "text": [
      "[1] 24.78049\n",
      "[1] 24.97561\n"
     ]
    }
   ],
   "source": [
    "right <- 0\n",
    "right_b <- 0\n",
    "for(k in 1:length(val_data[,\"Labels\"])) {\n",
    "    vec <- strsplit(val_data[k, \"Text\"], \" \")[[1]]\n",
    "    probs <- log(pc)\n",
    "    probs_b <- log(pc)\n",
    "    \n",
    "    #print(probs)\n",
    "    #print(probs_b)\n",
    "    #flush.console()\n",
    "    \n",
    "    for(h in vec) {\n",
    "        for(i in 0:5) {\n",
    "            #print(ptc[ptc[,\"token\"]==h ,paste(\"pt\",i, sep=\"\")])\n",
    "            inc <- log(ptc[ptc[,\"token\"]==h ,paste(\"pt\",i, sep=\"\")])\n",
    "            if ( length(inc) == 1 && ! any(is.na(inc)) ) {\n",
    "                probs[i+1] <- probs[i+1] + inc\n",
    "            }\n",
    "            \n",
    "            inc_b <- log(ptc_b[ptc_b[,\"token\"]==h ,paste(\"pt\",i, sep=\"\")])\n",
    "            if ( length(inc_b) == 1 && ! any(is.na(inc_b)) ) {\n",
    "                probs_b[i+1] <- probs_b[i+1] + inc_b \n",
    "            }\n",
    "            \n",
    "        }\n",
    "    }\n",
    "    \n",
    "    #print(probs)\n",
    "    #print(probs_b)\n",
    "    #flush.console()\n",
    "    \n",
    "    if( (0:5)[probs == max(probs)] == val_data[k, \"Labels\"]) {\n",
    "        right <- right + 1\n",
    "    }\n",
    "    if( (0:5)[probs_b == max(probs_b)] == val_data[k, \"Labels\"]) {\n",
    "        right_b <- right_b + 1\n",
    "    }\n",
    "}\n",
    "print(100*right/length(val_data[,\"Labels\"]))\n",
    "print(100*right_b/length(val_data[,\"Labels\"]))"
   ]
  }
 ],
 "metadata": {
  "kernelspec": {
   "display_name": "R",
   "language": "R",
   "name": "ir"
  },
  "language_info": {
   "codemirror_mode": "r",
   "file_extension": ".r",
   "mimetype": "text/x-r-source",
   "name": "R",
   "pygments_lexer": "r",
   "version": "4.1.2"
  }
 },
 "nbformat": 4,
 "nbformat_minor": 5
}
